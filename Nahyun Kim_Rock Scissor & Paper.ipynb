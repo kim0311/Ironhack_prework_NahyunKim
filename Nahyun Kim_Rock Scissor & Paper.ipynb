{
 "cells": [
  {
   "cell_type": "code",
   "execution_count": null,
   "metadata": {},
   "outputs": [],
   "source": [
    "import random\n",
    "\n",
    "\n"
   ]
  },
  {
   "cell_type": "code",
   "execution_count": null,
   "metadata": {},
   "outputs": [],
   "source": [
    "gestures = ['rock', 'paper', 'scissors']"
   ]
  },
  {
   "cell_type": "code",
   "execution_count": null,
   "metadata": {},
   "outputs": [],
   "source": [
    "n_rounds = 5"
   ]
  },
  {
   "cell_type": "code",
   "execution_count": null,
   "metadata": {},
   "outputs": [],
   "source": [
    "rounds_to_win = (n_rounds // 2) + (n_rounds % 2)"
   ]
  },
  {
   "cell_type": "code",
   "execution_count": 2,
   "metadata": {},
   "outputs": [],
   "source": [
    "cpu_score = 0\n",
    "player_score = 0"
   ]
  },
  {
   "cell_type": "code",
   "execution_count": 3,
   "metadata": {},
   "outputs": [],
   "source": [
    "def random_gesture():\n",
    "    return random.choice(gestures)"
   ]
  },
  {
   "cell_type": "code",
   "execution_count": 4,
   "metadata": {},
   "outputs": [
    {
     "data": {
      "text/plain": [
       "'scissors'"
      ]
     },
     "execution_count": 4,
     "metadata": {},
     "output_type": "execute_result"
    }
   ],
   "source": [
    "random_gesture()"
   ]
  },
  {
   "cell_type": "code",
   "execution_count": 5,
   "metadata": {},
   "outputs": [],
   "source": [
    "def gesture_check(gesture):\n",
    "    if gesture not in gestures:\n",
    "        print(\"choice 'rock', 'paper' or 'scissors'.\")\n",
    "        return False\n",
    "    else:\n",
    "        return gesture\n",
    "    "
   ]
  },
  {
   "cell_type": "code",
   "execution_count": 6,
   "metadata": {},
   "outputs": [],
   "source": [
    "def check_winner(player_gesture, cpu_gesture):\n",
    "    if player_gesture == 'rock':\n",
    "        if cpu_gesture == 'rock':\n",
    "            return 0\n",
    "        elif cpu_gesture == 'paper':\n",
    "            return 1\n",
    "        else:\n",
    "            return 2\n",
    "    elif player_gesture == 'paper':\n",
    "        if cpu_gesture == 'rock':\n",
    "            return 2\n",
    "        elif cpu_gesture == 'paper':\n",
    "            return 0\n",
    "        else:\n",
    "            return 1\n",
    "    else:\n",
    "        if cpu_gesture == 'rock':\n",
    "            return 1\n",
    "        elif cpu_gesture == 'paper':\n",
    "            return 2\n",
    "        else:\n",
    "            return 0"
   ]
  },
  {
   "cell_type": "code",
   "execution_count": 7,
   "metadata": {},
   "outputs": [],
   "source": [
    "def print_winner(player_gesture, cpu_gesture):\n",
    "    status = check_winner(player_gesture, cpu_gesture)\n",
    "    if status == 0:\n",
    "        print(\"tie game\")\n",
    "    if status == 1:\n",
    "        print(\"winner is computer\")\n",
    "    if status == 2:\n",
    "        print(\"winner is player\")\n",
    "    return status"
   ]
  },
  {
   "cell_type": "code",
   "execution_count": null,
   "metadata": {},
   "outputs": [],
   "source": [
    "for n in range(n_rounds):\n",
    "    input_check = False\n",
    "    user_input = None\n",
    "    while input_check==False:\n",
    "        user_input = input()\n",
    "        input_check = gesture_check(user_input)\n",
    "    cpu_input = random_gesture()\n",
    "    status = print_winner(input_check, cpu_input)\n",
    "    if status == 0:\n",
    "        continue\n",
    "    elif status == 1:\n",
    "        cpu_score += 1\n",
    "    else:\n",
    "        player_score += 1\n",
    "        \n",
    "        "
   ]
  },
  {
   "cell_type": "code",
   "execution_count": null,
   "metadata": {},
   "outputs": [],
   "source": [
    "for n in range(n_rounds):\n",
    "    input_check = False\n",
    "    user_input = None\n",
    "    while input_check==False:\n",
    "        user_input = input()\n",
    "        input_check = gesture_check(user_input)\n",
    "    cpu_input = random_gesture()\n",
    "    status = print_winner(input_check, cpu_input)\n",
    "    if status == 0:\n",
    "        continue\n",
    "    elif status == 1:\n",
    "        cpu_score += 1\n",
    "    else:\n",
    "        player_score += 1\n",
    "    \n",
    "    if player_score == rounds_to_win:\n",
    "        print(\"---player is winner of the game---\")\n",
    "    if cpu_score == rounds_to_win:\n",
    "        print(\"---cpu is winner of the game---\")"
   ]
  },
  {
   "cell_type": "code",
   "execution_count": null,
   "metadata": {},
   "outputs": [],
   "source": []
  }
 ],
 "metadata": {
  "kernelspec": {
   "display_name": "Python 3",
   "language": "python",
   "name": "python3"
  },
  "language_info": {
   "codemirror_mode": {
    "name": "ipython",
    "version": 3
   },
   "file_extension": ".py",
   "mimetype": "text/x-python",
   "name": "python",
   "nbconvert_exporter": "python",
   "pygments_lexer": "ipython3",
   "version": "3.8.2"
  }
 },
 "nbformat": 4,
 "nbformat_minor": 4
}
