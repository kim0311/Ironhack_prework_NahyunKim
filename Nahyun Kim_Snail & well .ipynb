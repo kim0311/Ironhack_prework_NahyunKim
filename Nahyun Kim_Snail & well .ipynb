{
 "cells": [
  {
   "cell_type": "code",
   "execution_count": 6,
   "metadata": {},
   "outputs": [
    {
     "name": "stdout",
     "output_type": "stream",
     "text": [
      "10\n"
     ]
    }
   ],
   "source": [
    "well_height=125\n",
    "daily_distance = 30 \n",
    "nightly_distance= -20\n",
    "snail_position=daily_distance+nightly_distance\n",
    "print(snail_position)\n"
   ]
  },
  {
   "cell_type": "code",
   "execution_count": 31,
   "metadata": {},
   "outputs": [],
   "source": [
    "well_height=125\n",
    "daily_distance=30 \n",
    "nightly_distance=-20\n",
    "snail_position=daily_distance+nightly_distance\n",
    "days=0\n",
    "while days != 0 :\n",
    "    print(\"Still inside the well\")\n",
    "if snail_position < 125 :\n",
    "    snail_position = snail_position + snail_position\n",
    "else :\n",
    "    snail_position = snail_position + daily_distance\n",
    "    print(days)"
   ]
  },
  {
   "cell_type": "code",
   "execution_count": 67,
   "metadata": {},
   "outputs": [
    {
     "name": "stdout",
     "output_type": "stream",
     "text": [
      "1\n",
      "2\n",
      "3\n",
      "4\n",
      "5\n",
      "6\n",
      "7\n",
      "8\n",
      "9\n",
      "10\n",
      "11\n",
      "12\n"
     ]
    }
   ],
   "source": [
    "well_height=125\n",
    "daily_distance=30 \n",
    "nightly_distance=-20\n",
    "snail_position_EOD=daily_distance+nightly_distance\n",
    "days=0\n",
    "while snail_position_EOD < well_height :\n",
    "    snail_position_EOD += 10\n",
    "    days += 1\n",
    "    print(days)"
   ]
  },
  {
   "cell_type": "code",
   "execution_count": null,
   "metadata": {},
   "outputs": [],
   "source": []
  },
  {
   "cell_type": "code",
   "execution_count": 112,
   "metadata": {},
   "outputs": [
    {
     "name": "stdout",
     "output_type": "stream",
     "text": [
      "1\n",
      "2\n",
      "3\n",
      "4\n",
      "5\n",
      "6\n",
      "7\n",
      "8\n",
      "10\n",
      "11\n"
     ]
    }
   ],
   "source": [
    "well_height=125\n",
    "daily_distance=30 \n",
    "nightly_distance=-20\n",
    "snail_position_EOD=daily_distance+nightly_distance\n",
    "days=0\n",
    "while snail_position_EOD <= well_height - daily_distance:\n",
    "    snail_position_EOD= snail_position_EOD+10\n",
    "    days += 1\n",
    "    if snail_position_EOD > well_height - daily_distance:\n",
    "        snail_position_EOD += daily_distance\n",
    "        days += 1\n",
    "    print(days) \n",
    "else :    \n",
    "        days += 1\n",
    "print(days)"
   ]
  },
  {
   "cell_type": "code",
   "execution_count": null,
   "metadata": {},
   "outputs": [],
   "source": []
  }
 ],
 "metadata": {
  "kernelspec": {
   "display_name": "Python 3",
   "language": "python",
   "name": "python3"
  },
  "language_info": {
   "codemirror_mode": {
    "name": "ipython",
    "version": 3
   },
   "file_extension": ".py",
   "mimetype": "text/x-python",
   "name": "python",
   "nbconvert_exporter": "python",
   "pygments_lexer": "ipython3",
   "version": "3.8.2"
  }
 },
 "nbformat": 4,
 "nbformat_minor": 4
}
