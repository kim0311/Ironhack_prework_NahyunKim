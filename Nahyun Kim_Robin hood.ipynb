{
 "cells": [
  {
   "cell_type": "code",
   "execution_count": 1,
   "metadata": {},
   "outputs": [],
   "source": [
    "points = [(4, 5), (-0, 2), (4, 7), (1, -3), (3, -2), (4, 5), (3, 2), (5, 7), (-5, 7), (2, 2), (-4, 5), (0, -2),\n",
    "          (-4, 7), (-1, 3), (-3, 2), (-4, -5), (-3, 2), (5, 7), (5, 7), (2, 2), (9, 9), (-8, -9)]"
   ]
  },
  {
   "cell_type": "code",
   "execution_count": 2,
   "metadata": {},
   "outputs": [
    {
     "data": {
      "text/plain": [
       "{(4, 5): 2,\n",
       " (0, 2): 1,\n",
       " (4, 7): 1,\n",
       " (1, -3): 1,\n",
       " (3, -2): 1,\n",
       " (3, 2): 1,\n",
       " (5, 7): 3,\n",
       " (-5, 7): 1,\n",
       " (2, 2): 2,\n",
       " (-4, 5): 1,\n",
       " (0, -2): 1,\n",
       " (-4, 7): 1,\n",
       " (-1, 3): 1,\n",
       " (-3, 2): 2,\n",
       " (-4, -5): 1,\n",
       " (9, 9): 1,\n",
       " (-8, -9): 1}"
      ]
     },
     "execution_count": 2,
     "metadata": {},
     "output_type": "execute_result"
    }
   ],
   "source": [
    "arrow_point_map = {}\n",
    "for point in points:\n",
    "    if point in arrow_point_map:\n",
    "        arrow_point_map[point] += 1\n",
    "    else:\n",
    "        arrow_point_map[point] = 1\n",
    "\n",
    "arrow_point_map"
   ]
  },
  {
   "cell_type": "code",
   "execution_count": 3,
   "metadata": {},
   "outputs": [
    {
     "name": "stdout",
     "output_type": "stream",
     "text": [
      "(4, 5)\n",
      "(5, 7)\n",
      "(2, 2)\n",
      "(-3, 2)\n"
     ]
    }
   ],
   "source": [
    "for point in arrow_point_map:\n",
    "    if arrow_point_map[point] > 1:\n",
    "        print(point)"
   ]
  },
  {
   "cell_type": "code",
   "execution_count": 4,
   "metadata": {},
   "outputs": [
    {
     "name": "stdout",
     "output_type": "stream",
     "text": [
      "Q1 fallen : 4\n",
      "Q2 fallen : 1\n",
      "Q3 fallen : 0\n",
      "Q4 fallen : 0\n"
     ]
    }
   ],
   "source": [
    "q1_fallen_number = 0\n",
    "q2_fallen_number = 0\n",
    "q3_fallen_number = 0\n",
    "q4_fallen_number = 0\n",
    "\n",
    "for point in arrow_point_map:\n",
    "    if arrow_point_map[point] > 1:\n",
    "        if (point[0] > 0) and (point[1] > 0):\n",
    "            q1_fallen_number += arrow_point_map[point] - 1\n",
    "        elif (point[0] < 0) and (point[1] > 0):\n",
    "            q2_fallen_number += arrow_point_map[point] - 1\n",
    "        elif (point[0] < 0) and (point[1] < 0):\n",
    "            q3_fallen_number += arrow_point_map[point] - 1\n",
    "        elif (point[0] > 0) and (point[1] < 0):\n",
    "            q4_fallen_number += arrow_point_map[point] - 1\n",
    "\n",
    "print(\"Q1 fallen :\", q1_fallen_number)\n",
    "print(\"Q2 fallen :\", q2_fallen_number)\n",
    "print(\"Q3 fallen :\", q3_fallen_number)\n",
    "print(\"Q4 fallen :\", q4_fallen_number)"
   ]
  },
  {
   "cell_type": "code",
   "execution_count": 5,
   "metadata": {},
   "outputs": [],
   "source": [
    "import math\n",
    "\n",
    "distance_list = []\n",
    "for point in points:\n",
    "    distance_list.append(math.sqrt(point[0]**2 + point[1]**2))"
   ]
  },
  {
   "cell_type": "code",
   "execution_count": 6,
   "metadata": {},
   "outputs": [
    {
     "data": {
      "text/plain": [
       "2.0"
      ]
     },
     "execution_count": 6,
     "metadata": {},
     "output_type": "execute_result"
    }
   ],
   "source": [
    "min(distance_list)"
   ]
  },
  {
   "cell_type": "code",
   "execution_count": 7,
   "metadata": {},
   "outputs": [
    {
     "name": "stdout",
     "output_type": "stream",
     "text": [
      "2\n"
     ]
    }
   ],
   "source": [
    "no_hit_target_number = 0\n",
    "for distance in distance_list:\n",
    "    if distance > 9:\n",
    "        no_hit_target_number += 1\n",
    "print(no_hit_target_number)\n"
   ]
  },
  {
   "cell_type": "code",
   "execution_count": null,
   "metadata": {},
   "outputs": [],
   "source": []
  }
 ],
 "metadata": {
  "kernelspec": {
   "display_name": "Python 3",
   "language": "python",
   "name": "python3"
  },
  "language_info": {
   "codemirror_mode": {
    "name": "ipython",
    "version": 3
   },
   "file_extension": ".py",
   "mimetype": "text/x-python",
   "name": "python",
   "nbconvert_exporter": "python",
   "pygments_lexer": "ipython3",
   "version": "3.8.2"
  }
 },
 "nbformat": 4,
 "nbformat_minor": 4
}
